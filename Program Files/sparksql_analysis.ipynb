{
 "cells": [
  {
   "cell_type": "markdown",
   "metadata": {},
   "source": [
    "# Spark notebook"
   ]
  },
  {
   "cell_type": "code",
   "execution_count": 1,
   "metadata": {},
   "outputs": [],
   "source": [
    "#importing the necessary libraries and packages\n",
    "from pyspark.sql import SparkSession\n",
    "import pandas as pd\n",
    "from pyspark.sql import functions as F\n",
    "import numpy as np\n",
    "import pandas as pd\n",
    "import matplotlib.pyplot as plt\n",
    "import seaborn as sns\n",
    "from pyspark.sql.types import *\n",
    "from pyspark.sql.functions import *  \n"
   ]
  },
  {
   "cell_type": "code",
   "execution_count": 2,
   "metadata": {},
   "outputs": [
    {
     "data": {
      "text/html": [
       "\n",
       "            <div>\n",
       "                <p><b>SparkSession - hive</b></p>\n",
       "                \n",
       "        <div>\n",
       "            <p><b>SparkContext</b></p>\n",
       "\n",
       "            <p><a href=\"http://ip-10-1-1-204.ap-south-1.compute.internal:43003\">Spark UI</a></p>\n",
       "\n",
       "            <dl>\n",
       "              <dt>Version</dt>\n",
       "                <dd><code>v2.4.0</code></dd>\n",
       "              <dt>Master</dt>\n",
       "                <dd><code>local[*]</code></dd>\n",
       "              <dt>AppName</dt>\n",
       "                <dd><code>sachin_ml</code></dd>\n",
       "            </dl>\n",
       "        </div>\n",
       "        \n",
       "            </div>\n",
       "        "
      ],
      "text/plain": [
       "<pyspark.sql.session.SparkSession at 0x7fd1f6954090>"
      ]
     },
     "execution_count": 2,
     "metadata": {},
     "output_type": "execute_result"
    }
   ],
   "source": [
    "#creating a spark context object\n",
    "spark = (SparkSession.builder.appName(\"sachin_ml\")\\\n",
    "        .config(\"hive.metastore.uris\",\"thrift://ip-10-1-2-24.ap-south-1.compute.internal:9083\")\\\n",
    "        .enableHiveSupport().getOrCreate())\n",
    "spark"
   ]
  },
  {
   "cell_type": "code",
   "execution_count": 3,
   "metadata": {},
   "outputs": [
    {
     "name": "stdout",
     "output_type": "stream",
     "text": [
      "++\n",
      "||\n",
      "++\n",
      "++\n",
      "\n",
      "+----------+------------+-----------+\n",
      "|  database|   tableName|isTemporary|\n",
      "+----------+------------+-----------+\n",
      "|sachinlabs| departments|      false|\n",
      "|sachinlabs|    dept_emp|      false|\n",
      "|sachinlabs|dept_manager|      false|\n",
      "|sachinlabs|   employees|      false|\n",
      "|sachinlabs|    salaries|      false|\n",
      "|sachinlabs|      titles|      false|\n",
      "+----------+------------+-----------+\n",
      "\n"
     ]
    }
   ],
   "source": [
    "#using the 'sachinlabs' database and displaying the tables presnt in he database via spark sql\n",
    "spark.sql(\"use sachinlabs\").show()\n",
    "spark.sql(\"show tables\").show()"
   ]
  },
  {
   "cell_type": "code",
   "execution_count": 4,
   "metadata": {},
   "outputs": [
    {
     "name": "stdout",
     "output_type": "stream",
     "text": [
      "+-------+--------------------+\n",
      "|dept_no|           dept_name|\n",
      "+-------+--------------------+\n",
      "|dept_no|           dept_name|\n",
      "|   d001|         \"Marketing\"|\n",
      "|   d002|           \"Finance\"|\n",
      "|   d003|   \"Human Resources\"|\n",
      "|   d004|        \"Production\"|\n",
      "|   d005|       \"development\"|\n",
      "|   d006|\"Quality Management\"|\n",
      "|   d007|             \"Sales\"|\n",
      "|   d008|          \"Research\"|\n",
      "|   d009|  \"Customer Service\"|\n",
      "+-------+--------------------+\n",
      "\n"
     ]
    }
   ],
   "source": [
    "#viewing first few records of the departments table\n",
    "spark.sql(\"select * from departments\").show()\n"
   ]
  },
  {
   "cell_type": "code",
   "execution_count": 5,
   "metadata": {},
   "outputs": [
    {
     "name": "stdout",
     "output_type": "stream",
     "text": [
      "+------+------------+----------+----------+---------+---+----------+--------------+-----------------------+----+---------+\n",
      "|emp_no|emp_title_id|birth_date|first_name|last_name|sex| hire_date|no_of_projects|last_performance_rating|left|last_date|\n",
      "+------+------------+----------+----------+---------+---+----------+--------------+-----------------------+----+---------+\n",
      "|  null|emp_title_id|birth_date|first_name|last_name|sex| hire_date|          null|   Last_performance_...|null|last_date|\n",
      "|473302|       s0001| 7/25/1953|  Hideyuki| Zallocco|  M| 4/28/1990|             2|                      A|null|         |\n",
      "|475053|       e0002|11/18/1954|     Byong|Delgrande|  F|  9/7/1991|             1|                      C|null|         |\n",
      "| 57444|       e0002| 1/30/1958|     Berry|     Babb|  F| 3/21/1992|             9|                      A|null|         |\n",
      "|421786|       s0001| 9/28/1957|     Xiong| Verhoeff|  M|11/26/1987|             2|                      C|null|         |\n",
      "|282238|       e0003|10/28/1952|Abdelkader|  Baumann|  F| 1/18/1991|             6|                      B|null|         |\n",
      "|263976|       e0003|10/30/1959|      Eran| Cusworth|  M|11/14/1986|             8|                      B|null|8/21/1993|\n",
      "|273487|       s0001| 4/14/1957| Christoph|  Parfitt|  M| 6/28/1991|            10|                      A|null|         |\n",
      "|461591|       s0002|11/17/1964|    Xudong| Samarati|  M|11/13/1985|             2|                      A|null|8/21/1994|\n",
      "|477657|       e0002|12/18/1962|    Lihong|Magliocco|  M|10/23/1993|             5|                      A|null|         |\n",
      "+------+------------+----------+----------+---------+---+----------+--------------+-----------------------+----+---------+\n",
      "\n"
     ]
    }
   ],
   "source": [
    "#viewing first few records of the employees table\n",
    "spark.sql(\"select * from employees limit 10\").show()"
   ]
  },
  {
   "cell_type": "markdown",
   "metadata": {},
   "source": [
    "## Spark EDA"
   ]
  },
  {
   "cell_type": "markdown",
   "metadata": {},
   "source": [
    "A list showing employee number, last name, first name, sex, and salary for each employee1."
   ]
  },
  {
   "cell_type": "code",
   "execution_count": 6,
   "metadata": {},
   "outputs": [
    {
     "name": "stdout",
     "output_type": "stream",
     "text": [
      "+------+-----------+----------+---+------+\n",
      "|emp_no|  last_name|first_name|sex|salary|\n",
      "+------+-----------+----------+---+------+\n",
      "| 10001|    Facello|    Georgi|  M| 60117|\n",
      "| 10002|     Simmel|   Bezalel|  F| 65828|\n",
      "| 10003|    Bamford|     Parto|  M| 40006|\n",
      "| 10004|    Koblick| Chirstian|  M| 40054|\n",
      "| 10005|   Maliniak|   Kyoichi|  M| 78228|\n",
      "| 10006|    Preusig|    Anneke|  F| 40000|\n",
      "| 10007|  Zielinski|   Tzvetan|  F| 56724|\n",
      "| 10008|   Kalloufi|    Saniya|  M| 46671|\n",
      "| 10009|       Peac|    Sumant|  F| 60929|\n",
      "| 10010|   Piveteau| Duangkaew|  F| 72488|\n",
      "| 10011|      Sluis|      Mary|  F| 42365|\n",
      "| 10012|  Bridgland|  Patricio|  M| 40000|\n",
      "| 10013|     Terkki| Eberhardt|  M| 40000|\n",
      "| 10014|      Genin|     Berni|  M| 46168|\n",
      "| 10015|  Nooteboom|  Guoxiang|  M| 40000|\n",
      "| 10016|Cappelletti|  Kazuhito|  M| 70889|\n",
      "| 10017|  Bouloucos| Cristinel|  F| 71380|\n",
      "| 10018|       Peha|  Kazuhide|  F| 55881|\n",
      "| 10019|    Haddadi|   Lillian|  M| 44276|\n",
      "| 10020|    Warwick|    Mayuko|  M| 40000|\n",
      "+------+-----------+----------+---+------+\n",
      "only showing top 20 rows\n",
      "\n"
     ]
    }
   ],
   "source": [
    "spark.sql(\"select s.emp_no, e.last_name, e.first_name, e.sex, s.salary from employees as e inner join salaries as s on s.emp_no = e.emp_no order by s.emp_no \").show()"
   ]
  },
  {
   "cell_type": "markdown",
   "metadata": {},
   "source": [
    "List employees who were hired in 1986"
   ]
  },
  {
   "cell_type": "code",
   "execution_count": 7,
   "metadata": {},
   "outputs": [
    {
     "name": "stdout",
     "output_type": "stream",
     "text": [
      "+------+----------+---------------+---------+\n",
      "|emp_no|first_name|      last_name|hire_date|\n",
      "+------+----------+---------------+---------+\n",
      "|487879|   Yongmao|      Fritzsche| 1/1/1986|\n",
      "|471203|   Jianhao|          Serot| 1/1/1986|\n",
      "|265749|       Uri|         Asmuth| 1/1/1986|\n",
      "| 22576|    Shawna|       Reinhart| 1/1/1986|\n",
      "|224714|     Mario|       Orlowska| 1/1/1986|\n",
      "|232210|    Sumant|        Stemann| 1/1/1986|\n",
      "|279357| Manibrata|         Stiles| 1/1/1986|\n",
      "|248293|     Bedir|Vanwelkenhuysen| 1/1/1986|\n",
      "| 13094|    Sanjay|      Servieres| 1/1/1986|\n",
      "|469053|     Vidya|       Dymetman| 1/1/1986|\n",
      "|208807|      Zita|      Shobatake| 1/1/1986|\n",
      "|430556|   Arlette|       Boguraev| 1/1/1986|\n",
      "|100812|    Saniya|       Lanphier| 1/1/1986|\n",
      "|417922|     Ziyad|  Bhattacharjee| 1/1/1986|\n",
      "|253787|    Filipe|        Bottner| 1/1/1986|\n",
      "| 28637|      Moto|        Kenevan| 1/1/1986|\n",
      "|268761|   Zhanqiu|       Buescher| 1/1/1986|\n",
      "| 29708|    Sachar|           Undy| 1/1/1986|\n",
      "| 31961| Alejandra|           Luce| 1/1/1986|\n",
      "|407967|    Tamiya|         Simkin| 1/1/1986|\n",
      "+------+----------+---------------+---------+\n",
      "only showing top 20 rows\n",
      "\n"
     ]
    }
   ],
   "source": [
    "spark.sql(\"SELECT emp_no, first_name, last_name, hire_date FROM employees WHERE hire_date BETWEEN '1/1/1986' AND '12/31/1986' ORDER BY hire_date \").show()"
   ]
  },
  {
   "cell_type": "markdown",
   "metadata": {},
   "source": [
    "List the manager of each department with the following information: department number, department name, the manager's employee number, last name, first name."
   ]
  },
  {
   "cell_type": "code",
   "execution_count": 8,
   "metadata": {},
   "outputs": [
    {
     "name": "stdout",
     "output_type": "stream",
     "text": [
      "+-------+--------------------+------+------------+-----------+\n",
      "|dept_no|           dept_name|emp_no|   last_name| first_name|\n",
      "+-------+--------------------+------+------------+-----------+\n",
      "|   d001|         \"Marketing\"|110022|  Markovitch|  Margareta|\n",
      "|   d001|         \"Marketing\"|110039|    Minakawa|   Vishwani|\n",
      "|   d002|           \"Finance\"|110114|  Legleitner|      Isamu|\n",
      "|   d002|           \"Finance\"|110085|       Alpin|       Ebru|\n",
      "|   d003|   \"Human Resources\"|110183|Ossenbruggen|    Shirish|\n",
      "|   d003|   \"Human Resources\"|110228|     Sigstam|    Karsten|\n",
      "|   d004|        \"Production\"|110420|    Ghazalie|      Oscar|\n",
      "|   d004|        \"Production\"|110386|      Kieras|       Shem|\n",
      "|   d004|        \"Production\"|110344|       Cools|     Rosine|\n",
      "|   d004|        \"Production\"|110303|     Wegerle|  Krassimir|\n",
      "|   d005|       \"development\"|110567|    DasSarma|       Leon|\n",
      "|   d005|       \"development\"|110511|    Hagimont|   DeForest|\n",
      "|   d006|\"Quality Management\"|110725|     Onuegbe|  Peternela|\n",
      "|   d006|\"Quality Management\"|110854|       Pesch|       Dung|\n",
      "|   d006|\"Quality Management\"|110765|     Hofmeyr|     Rutger|\n",
      "|   d006|\"Quality Management\"|110800|     Quadeer|     Sanjoy|\n",
      "|   d007|             \"Sales\"|111133|       Zhang|      Hauke|\n",
      "|   d007|             \"Sales\"|111035|   Kaelbling|Przemyslawa|\n",
      "|   d008|          \"Research\"|111534|      Kambil|     Hilary|\n",
      "|   d008|          \"Research\"|111400|     Staelin|       Arie|\n",
      "+-------+--------------------+------+------------+-----------+\n",
      "only showing top 20 rows\n",
      "\n"
     ]
    }
   ],
   "source": [
    "spark.sql(\"SELECT departments.dept_no, departments.dept_name, dept_manager.emp_no, employees.last_name, employees.first_name FROM departments JOIN dept_manager ON departments.dept_no = dept_manager.dept_no JOIN employees ON dept_manager.emp_no = employees.emp_no order by dept_no\").show()"
   ]
  },
  {
   "cell_type": "markdown",
   "metadata": {},
   "source": [
    "List the department of each employee with the following information:employee number, last name, first name, and department name."
   ]
  },
  {
   "cell_type": "code",
   "execution_count": 9,
   "metadata": {},
   "outputs": [
    {
     "data": {
      "text/plain": [
       "<bound method DataFrame.show of DataFrame[emp_no: bigint, last_name: string, first_name: string, dept_name: string]>"
      ]
     },
     "execution_count": 9,
     "metadata": {},
     "output_type": "execute_result"
    }
   ],
   "source": [
    "spark.sql(\"SELECT dept_emp.emp_no, employees.last_name, employees.first_name, departments.dept_name FROM dept_emp JOIN employees ON dept_emp.emp_no = employees.emp_no JOIN departments ON dept_emp.dept_no = departments.dept_no \").show"
   ]
  },
  {
   "cell_type": "markdown",
   "metadata": {},
   "source": [
    "List first name, last name, and sex for employees whose first name is \"Hercules\" and last names begin with \"B.\""
   ]
  },
  {
   "cell_type": "code",
   "execution_count": 10,
   "metadata": {},
   "outputs": [
    {
     "name": "stdout",
     "output_type": "stream",
     "text": [
      "+----------+-------------+---+\n",
      "|first_name|    last_name|sex|\n",
      "+----------+-------------+---+\n",
      "|  Hercules|         Baer|  M|\n",
      "|  Hercules|        Biron|  F|\n",
      "|  Hercules|        Birge|  F|\n",
      "|  Hercules|      Berstel|  F|\n",
      "|  Hercules|    Bernatsky|  M|\n",
      "|  Hercules|         Bail|  F|\n",
      "|  Hercules|       Bodoff|  M|\n",
      "|  Hercules|     Benantar|  F|\n",
      "|  Hercules|      Basagni|  M|\n",
      "|  Hercules|Bernardinello|  F|\n",
      "|  Hercules|   Baranowski|  M|\n",
      "|  Hercules|      Bisiani|  F|\n",
      "|  Hercules|   Benzmuller|  M|\n",
      "|  Hercules|         Bahr|  M|\n",
      "|  Hercules|        Biran|  F|\n",
      "|  Hercules|         Bain|  F|\n",
      "|  Hercules|      Brendel|  F|\n",
      "|  Hercules|      Buchter|  M|\n",
      "|  Hercules|     Barreiro|  M|\n",
      "|  Hercules|         Baak|  M|\n",
      "+----------+-------------+---+\n",
      "\n"
     ]
    }
   ],
   "source": [
    "spark.sql(\"SELECT employees.first_name, employees.last_name, employees.sex FROM employees WHERE first_name = 'Hercules' AND last_name Like 'B%'\").show()"
   ]
  },
  {
   "cell_type": "markdown",
   "metadata": {},
   "source": [
    "List all employees in the Sales department, including their employee number, last name, first name, and department name."
   ]
  },
  {
   "cell_type": "code",
   "execution_count": 11,
   "metadata": {},
   "outputs": [
    {
     "name": "stdout",
     "output_type": "stream",
     "text": [
      "+---------+---------+----------+\n",
      "|dept_name|last_name|first_name|\n",
      "+---------+---------+----------+\n",
      "+---------+---------+----------+\n",
      "\n"
     ]
    }
   ],
   "source": [
    "spark.sql(\"SELECT departments.dept_name, employees.last_name, employees.first_name FROM dept_emp JOIN employees ON dept_emp.emp_no = employees.emp_no JOIN departments ON dept_emp.dept_no = departments.dept_no WHERE departments.dept_name = 'Sales'\").show()"
   ]
  },
  {
   "cell_type": "markdown",
   "metadata": {},
   "source": [
    "List all employees in the Sales and Development departments, including their employee number, last name, first name, and department name."
   ]
  },
  {
   "cell_type": "code",
   "execution_count": 12,
   "metadata": {},
   "outputs": [
    {
     "name": "stdout",
     "output_type": "stream",
     "text": [
      "+------+---------+----------+---------+\n",
      "|emp_no|last_name|first_name|dept_name|\n",
      "+------+---------+----------+---------+\n",
      "+------+---------+----------+---------+\n",
      "\n"
     ]
    }
   ],
   "source": [
    "spark.sql(\"SELECT dept_emp.emp_no, employees.last_name, employees.first_name, departments.dept_name FROM dept_emp JOIN employees ON dept_emp.emp_no = employees.emp_no JOIN departments ON dept_emp.dept_no = departments.dept_no WHERE departments.dept_name = 'Sales' OR departments.dept_name = 'Development'\").show()"
   ]
  },
  {
   "cell_type": "markdown",
   "metadata": {},
   "source": [
    "In descending order, list the frequency count of employee last names, i.e., how many employees share each last name."
   ]
  },
  {
   "cell_type": "code",
   "execution_count": 13,
   "metadata": {},
   "outputs": [
    {
     "name": "stdout",
     "output_type": "stream",
     "text": [
      "+-----------+---------+\n",
      "|  last_name|Frequency|\n",
      "+-----------+---------+\n",
      "|       Baba|      226|\n",
      "|     Gelosh|      223|\n",
      "|      Coorg|      223|\n",
      "|    Sudbeck|      222|\n",
      "|     Farris|      222|\n",
      "|     Adachi|      221|\n",
      "|     Osgood|      220|\n",
      "|    Mandell|      218|\n",
      "|     Masada|      218|\n",
      "|     Neiman|      218|\n",
      "|Boudaillier|      217|\n",
      "|    Wendorf|      217|\n",
      "|     Pettis|      216|\n",
      "|     Mahnke|      216|\n",
      "|    Solares|      216|\n",
      "|   Cummings|      216|\n",
      "|   Birjandi|      215|\n",
      "|     Emmart|      215|\n",
      "|   Collette|      215|\n",
      "| Maksimenko|      215|\n",
      "+-----------+---------+\n",
      "only showing top 20 rows\n",
      "\n"
     ]
    }
   ],
   "source": [
    "spark.sql(\"select last_name,count(last_name) as Frequency from employees group by last_name order by frequency desc\").show()"
   ]
  },
  {
   "cell_type": "markdown",
   "metadata": {},
   "source": [
    "Histogram to show the salary distribution among the employees"
   ]
  },
  {
   "cell_type": "code",
   "execution_count": 14,
   "metadata": {},
   "outputs": [
    {
     "data": {
      "image/png": "[encoded data removed]",
      "text/plain": [
       "<Figure size 432x288 with 1 Axes>"
      ]
     },
     "metadata": {
      "needs_background": "light"
     },
     "output_type": "display_data"
    }
   ],
   "source": [
    "#distribution plot to show the salaries and employee number\n",
    "sns.distplot(spark.sql(\"select emp_no, salary from salaries\").toPandas())\n",
    "plt.show()"
   ]
  },
  {
   "cell_type": "code",
   "execution_count": 15,
   "metadata": {},
   "outputs": [
    {
     "name": "stderr",
     "output_type": "stream",
     "text": [
      "/opt/anaconda3/lib/python3.7/site-packages/numpy/lib/histograms.py:839: RuntimeWarning: invalid value encountered in greater_equal\n",
      "  keep = (tmp_a >= first_edge)\n",
      "/opt/anaconda3/lib/python3.7/site-packages/numpy/lib/histograms.py:840: RuntimeWarning: invalid value encountered in less_equal\n",
      "  keep &= (tmp_a <= last_edge)\n"
     ]
    },
    {
     "data": {
      "image/png": "[encoded data removed]",
      "text/plain": [
       "<Figure size 432x288 with 1 Axes>"
      ]
     },
     "metadata": {
      "needs_background": "light"
     },
     "output_type": "display_data"
    }
   ],
   "source": [
    "#histogram to show the salaries\n",
    "plt.hist(spark.sql(\"select salary from salaries\").toPandas().values)\n",
    "plt.xlabel('Salaries')\n",
    "plt.ylabel('Counts of Employess')\n",
    "plt.show()"
   ]
  },
  {
   "cell_type": "markdown",
   "metadata": {},
   "source": [
    "Bar graph to show the average salary per title with respect to designation"
   ]
  },
  {
   "cell_type": "code",
   "execution_count": 16,
   "metadata": {},
   "outputs": [],
   "source": [
    "#converting sapark dataframe to pandas dataframe\n",
    "avg_salary = spark.sql(\"select t1.title, avg(t3.salary) as average_salary from titles t1 inner join employees t2 on t1.title_id = t2.emp_title_id inner join salaries t3 on t2.emp_no=t3.emp_no group by t1.title order by average_salary\").toPandas()\n"
   ]
  },
  {
   "cell_type": "code",
   "execution_count": 17,
   "metadata": {},
   "outputs": [
    {
     "data": {
      "text/html": [
       "<div>\n",
       "<style scoped>\n",
       "    .dataframe tbody tr th:only-of-type {\n",
       "        vertical-align: middle;\n",
       "    }\n",
       "\n",
       "    .dataframe tbody tr th {\n",
       "        vertical-align: top;\n",
       "    }\n",
       "\n",
       "    .dataframe thead th {\n",
       "        text-align: right;\n",
       "    }\n",
       "</style>\n",
       "<table border=\"1\" class=\"dataframe\">\n",
       "  <thead>\n",
       "    <tr style=\"text-align: right;\">\n",
       "      <th></th>\n",
       "      <th>title</th>\n",
       "      <th>average_salary</th>\n",
       "    </tr>\n",
       "  </thead>\n",
       "  <tbody>\n",
       "    <tr>\n",
       "      <th>0</th>\n",
       "      <td>Senior Engineer</td>\n",
       "      <td>48506.799871</td>\n",
       "    </tr>\n",
       "    <tr>\n",
       "      <th>1</th>\n",
       "      <td>Engineer</td>\n",
       "      <td>48535.336511</td>\n",
       "    </tr>\n",
       "    <tr>\n",
       "      <th>2</th>\n",
       "      <td>Assistant Engineer</td>\n",
       "      <td>48564.434447</td>\n",
       "    </tr>\n",
       "    <tr>\n",
       "      <th>3</th>\n",
       "      <td>Technique Leader</td>\n",
       "      <td>48582.896092</td>\n",
       "    </tr>\n",
       "    <tr>\n",
       "      <th>4</th>\n",
       "      <td>Manager</td>\n",
       "      <td>51531.041667</td>\n",
       "    </tr>\n",
       "    <tr>\n",
       "      <th>5</th>\n",
       "      <td>Staff</td>\n",
       "      <td>58465.382850</td>\n",
       "    </tr>\n",
       "    <tr>\n",
       "      <th>6</th>\n",
       "      <td>Senior Staff</td>\n",
       "      <td>58550.172704</td>\n",
       "    </tr>\n",
       "  </tbody>\n",
       "</table>\n",
       "</div>"
      ],
      "text/plain": [
       "                title  average_salary\n",
       "0     Senior Engineer    48506.799871\n",
       "1            Engineer    48535.336511\n",
       "2  Assistant Engineer    48564.434447\n",
       "3    Technique Leader    48582.896092\n",
       "4             Manager    51531.041667\n",
       "5               Staff    58465.382850\n",
       "6        Senior Staff    58550.172704"
      ]
     },
     "execution_count": 17,
     "metadata": {},
     "output_type": "execute_result"
    }
   ],
   "source": [
    "avg_salary"
   ]
  },
  {
   "cell_type": "code",
   "execution_count": 18,
   "metadata": {},
   "outputs": [
    {
     "data": {
      "image/png": "[encoded data removed]",
      "text/plain": [
       "<Figure size 1080x360 with 1 Axes>"
      ]
     },
     "metadata": {
      "needs_background": "light"
     },
     "output_type": "display_data"
    }
   ],
   "source": [
    "plt.figure(figsize=(15, 5)) \n",
    "sns.barplot(x = avg_salary.title, y = avg_salary.average_salary, color = 'salmon')\n",
    "plt.show()"
   ]
  },
  {
   "cell_type": "markdown",
   "metadata": {},
   "source": [
    "Calculate employee tenure & show the tenure distribution among the employees."
   ]
  },
  {
   "cell_type": "markdown",
   "metadata": {},
   "source": [
    " Gender distribution of employees"
   ]
  },
  {
   "cell_type": "code",
   "execution_count": 19,
   "metadata": {},
   "outputs": [
    {
     "name": "stdout",
     "output_type": "stream",
     "text": [
      "+------+-------------+\n",
      "|gender|count(emp_no)|\n",
      "+------+-------------+\n",
      "|     F|       120051|\n",
      "|     M|       179973|\n",
      "|   sex|            0|\n",
      "+------+-------------+\n",
      "\n"
     ]
    }
   ],
   "source": [
    "spark.sql(\" SELECT sex as gender , COUNT(emp_no) FROM employees GROUP BY sex\").show()"
   ]
  },
  {
   "cell_type": "markdown",
   "metadata": {},
   "source": [
    "Average salary of employees based on gender."
   ]
  },
  {
   "cell_type": "code",
   "execution_count": 20,
   "metadata": {},
   "outputs": [
    {
     "name": "stdout",
     "output_type": "stream",
     "text": [
      "+------+------------------+\n",
      "|gender|    average_salary|\n",
      "+------+------------------+\n",
      "|     F|  52953.8364278515|\n",
      "|     M|52982.002944886175|\n",
      "+------+------------------+\n",
      "\n"
     ]
    }
   ],
   "source": [
    "spark.sql(\"\"\"select employees.sex as gender, avg(salaries.salary) as average_salary from employees join salaries on employees.emp_no = salaries.emp_no group by employees.sex\"\"\").show()"
   ]
  },
  {
   "cell_type": "markdown",
   "metadata": {},
   "source": [
    "Number of employees according to desingnation."
   ]
  },
  {
   "cell_type": "code",
   "execution_count": 21,
   "metadata": {},
   "outputs": [
    {
     "name": "stdout",
     "output_type": "stream",
     "text": [
      "+------------------+-------------+\n",
      "|             title|count(emp_no)|\n",
      "+------------------+-------------+\n",
      "|             Staff|       107384|\n",
      "|Assistant Engineer|         5835|\n",
      "|      Senior Staff|        26583|\n",
      "|   Senior Engineer|        97747|\n",
      "|          Engineer|        47303|\n",
      "|           Manager|           24|\n",
      "|  Technique Leader|        15148|\n",
      "+------------------+-------------+\n",
      "\n"
     ]
    }
   ],
   "source": [
    "spark.sql(\"SELECT titles.title, COUNT(employees.emp_no)  FROM titles JOIN employees ON titles.title_id = employees.emp_title_id GROUP BY(titles.title)\").show()"
   ]
  },
  {
   "cell_type": "markdown",
   "metadata": {},
   "source": [
    "Highest paid employees in the organization."
   ]
  },
  {
   "cell_type": "code",
   "execution_count": 22,
   "metadata": {},
   "outputs": [
    {
     "name": "stdout",
     "output_type": "stream",
     "text": [
      "+------------+-------------+-----------+\n",
      "|  first_name|    last_name|sum(salary)|\n",
      "+------------+-------------+-----------+\n",
      "|    Mohammad|       Ullian|     267002|\n",
      "|      Bartek|      Garnier|     259201|\n",
      "|     Rosalyn|       Baalen|     257234|\n",
      "|    Radoslaw|         Pfau|     254066|\n",
      "|         Gad|        Krone|     251992|\n",
      "|      Divine|      Ebeling|     248562|\n",
      "|        Iara|      Breugel|     246766|\n",
      "|        Eben|    Francisci|     243202|\n",
      "|    Yonghong|      Codenie|     241874|\n",
      "|     Zongyan|      DiGiano|     241645|\n",
      "|   Laurentiu|     Cesareni|     239415|\n",
      "| Constantijn|     Pramanik|     236752|\n",
      "|    Yuichiro|      Brendel|     235377|\n",
      "|    Branimir|     Griswold|     235302|\n",
      "|    Jasminko|        Junot|     234801|\n",
      "|      Jaques|       Zaiane|     233109|\n",
      "|Sivanarayana|Chandrasekhar|     230977|\n",
      "|    Jasminko|   Goldhammer|     230706|\n",
      "|     Martijn|   Besancenot|     230697|\n",
      "|        Marc|       Stille|     228853|\n",
      "+------------+-------------+-----------+\n",
      "only showing top 20 rows\n",
      "\n"
     ]
    }
   ],
   "source": [
    "spark.sql(\"select employees.first_name, employees.last_name, sum(salaries.salary) from employees left join salaries on employees.emp_no = salaries.emp_no group by employees.first_name, employees.last_name order by sum(salaries.salary) desc\").show()"
   ]
  },
  {
   "cell_type": "markdown",
   "metadata": {},
   "source": [
    "Count of employees based on their performance rating."
   ]
  },
  {
   "cell_type": "code",
   "execution_count": 23,
   "metadata": {},
   "outputs": [
    {
     "name": "stdout",
     "output_type": "stream",
     "text": [
      "+-----------------------+-------------+\n",
      "|Last_performance_rating|count(emp_no)|\n",
      "+-----------------------+-------------+\n",
      "|   Last_performance_...|            0|\n",
      "|                      B|       107154|\n",
      "|                      C|        71304|\n",
      "|                      A|        95919|\n",
      "|                      S|        10542|\n",
      "|                    PIP|        15105|\n",
      "+-----------------------+-------------+\n",
      "\n"
     ]
    }
   ],
   "source": [
    "spark.sql(\"SELECT Last_performance_rating , COUNT(emp_no) FROM employees  Group BY last_performance_rating\").show()"
   ]
  },
  {
   "cell_type": "code",
   "execution_count": null,
   "metadata": {},
   "outputs": [],
   "source": []
  },
  {
   "cell_type": "code",
   "execution_count": null,
   "metadata": {},
   "outputs": [],
   "source": []
  }
 ],
 "metadata": {
  "kernelspec": {
   "display_name": "Python 3",
   "language": "python",
   "name": "python3"
  },
  "language_info": {
   "codemirror_mode": {
    "name": "ipython",
    "version": 3
   },
   "file_extension": ".py",
   "mimetype": "text/x-python",
   "name": "python",
   "nbconvert_exporter": "python",
   "pygments_lexer": "ipython3",
   "version": "3.7.6"
  }
 },
 "nbformat": 4,
 "nbformat_minor": 4
}
